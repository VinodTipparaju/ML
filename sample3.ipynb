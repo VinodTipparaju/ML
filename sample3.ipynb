{
 "cells": [
  {
   "cell_type": "code",
   "execution_count": 1,
   "metadata": {},
   "outputs": [],
   "source": [
    "import pandas as pd\n",
    "import torch\n",
    "import torch.nn as nn\n",
    "import torch.optim as optim\n",
    "from sklearn.model_selection import train_test_split"
   ]
  },
  {
   "cell_type": "markdown",
   "metadata": {},
   "source": [
    "- Define a PyTorch model"
   ]
  },
  {
   "cell_type": "code",
   "execution_count": 2,
   "metadata": {},
   "outputs": [],
   "source": [
    "class DelayModel(nn.Module):\n",
    "    def __init__(self, inputs_size):\n",
    "        super(DelayModel, self).__init__()\n",
    "        self.fc1 = nn.Linear(inputs_size, 64)\n",
    "        self.relu1 = nn.ReLU()\n",
    "        self.fc2 = nn.Linear(64, 32)\n",
    "        self.relu2 = nn.ReLU()\n",
    "        self.fc3 = nn.Linear(32, 1)\n",
    "\n",
    "    def forward(self, x):\n",
    "        x = self.fc1(x)\n",
    "        x = self.relu1(x)\n",
    "        x = self.fc2(x)\n",
    "        x = self.relu2(x)\n",
    "        x = self.fc3(x)\n",
    "        return x"
   ]
  },
  {
   "cell_type": "code",
   "execution_count": 3,
   "metadata": {},
   "outputs": [],
   "source": [
    "def train_and_evaluate(df):\n",
    "    # remove columns has unique value for all rows\n",
    "    unique_counts = df.nunique()\n",
    "    df = df[unique_counts[unique_counts > 1].index]\n",
    "\n",
    "    # convert categorical values into numeric\n",
    "    cat_cols = df.select_dtypes(include=['object']).columns\n",
    "    for col in cat_cols:\n",
    "        df[col] = pd.factorize(df[col])[0]\n",
    "\n",
    "    # Split data into training and testing sets\n",
    "    train_df, test_df = train_test_split(df, test_size=0.2)\n",
    "\n",
    "    train_mean = train_df.iloc[:, df.columns != 'delay'].mean()\n",
    "    train_std = train_df.iloc[:, df.columns != 'delay'].std()\n",
    "\n",
    "    train_df.iloc[:, df.columns != 'delay'] = (train_df.iloc[:, df.columns != 'delay'] - train_mean) / train_std\n",
    "    test_df.iloc[:, df.columns != 'delay'] = (test_df.iloc[:, df.columns != 'delay'] - train_mean) / train_std\n",
    "\n",
    "    # Convert pandas dataframes to PyTorch tensors\n",
    "    train_inputs = torch.tensor(train_df.iloc[:, train_df.columns != 'delay'].values, dtype=torch.float32)\n",
    "    train_targets = torch.tensor(train_df.iloc[:, train_df.columns == 'delay'].values, dtype=torch.float32)\n",
    "    test_inputs = torch.tensor(test_df.iloc[:, test_df.columns != 'delay'].values, dtype=torch.float32)\n",
    "    test_targets = torch.tensor(test_df.iloc[:, test_df.columns == 'delay'].values, dtype=torch.float32)\n",
    "\n",
    "    model = DelayModel(inputs_size=train_inputs.shape[1])\n",
    "    criterion = nn.L1Loss()\n",
    "    optimizer = optim.SGD(model.parameters(), lr=0.01)\n",
    "\n",
    "    # Train the model\n",
    "    num_epochs = 100\n",
    "    for epoch in range(num_epochs):\n",
    "        # Forward pass\n",
    "        outputs = model(train_inputs)\n",
    "        loss = criterion(outputs, train_targets)\n",
    "\n",
    "        # Backward and optimize\n",
    "        optimizer.zero_grad()\n",
    "        loss.backward()\n",
    "        optimizer.step()\n",
    "\n",
    "        if (epoch+1) % 10 == 0:\n",
    "            print(f'Epoch [{epoch+1}/{num_epochs}], Loss: {loss.item():.4f}')\n",
    "\n",
    "    # evaluate the model\n",
    "    with torch.no_grad():\n",
    "        test_outputs = model(test_inputs)\n",
    "        test_loss = criterion(test_outputs, test_targets)\n",
    "        print(f'Test Loss: {test_loss.item():.4f}')"
   ]
  },
  {
   "cell_type": "code",
   "execution_count": 4,
   "metadata": {},
   "outputs": [
    {
     "name": "stdout",
     "output_type": "stream",
     "text": [
      "Epoch [10/100], Loss: 1873.4608\n",
      "Epoch [20/100], Loss: 1873.3674\n",
      "Epoch [30/100], Loss: 1873.3575\n",
      "Epoch [40/100], Loss: 1873.3523\n",
      "Epoch [50/100], Loss: 1873.3474\n",
      "Epoch [60/100], Loss: 1873.3429\n",
      "Epoch [70/100], Loss: 1873.3383\n",
      "Epoch [80/100], Loss: 1873.3334\n",
      "Epoch [90/100], Loss: 1873.3284\n",
      "Epoch [100/100], Loss: 1873.3232\n",
      "Test Loss: 1251.8546\n"
     ]
    },
    {
     "name": "stderr",
     "output_type": "stream",
     "text": [
      "<ipython-input-3-54a36230a7e1>:9: SettingWithCopyWarning: \n",
      "A value is trying to be set on a copy of a slice from a DataFrame.\n",
      "Try using .loc[row_indexer,col_indexer] = value instead\n",
      "\n",
      "See the caveats in the documentation: https://pandas.pydata.org/pandas-docs/stable/user_guide/indexing.html#returning-a-view-versus-a-copy\n",
      "  df[col] = pd.factorize(df[col])[0]\n"
     ]
    }
   ],
   "source": [
    "train_and_evaluate(df=pd.read_csv('./csv/floyd.csv', index_col=0))"
   ]
  },
  {
   "cell_type": "code",
   "execution_count": 5,
   "metadata": {},
   "outputs": [
    {
     "name": "stdout",
     "output_type": "stream",
     "text": [
      "Epoch [10/100], Loss: 246.0704\n",
      "Epoch [20/100], Loss: 245.9270\n",
      "Epoch [30/100], Loss: 245.7909\n",
      "Epoch [40/100], Loss: 245.6336\n",
      "Epoch [50/100], Loss: 245.4402\n",
      "Epoch [60/100], Loss: 245.1930\n",
      "Epoch [70/100], Loss: 244.8602\n",
      "Epoch [80/100], Loss: 244.3965\n",
      "Epoch [90/100], Loss: 243.7232\n",
      "Epoch [100/100], Loss: 243.0667\n",
      "Test Loss: 197.6655\n"
     ]
    },
    {
     "name": "stderr",
     "output_type": "stream",
     "text": [
      "<ipython-input-3-54a36230a7e1>:9: SettingWithCopyWarning: \n",
      "A value is trying to be set on a copy of a slice from a DataFrame.\n",
      "Try using .loc[row_indexer,col_indexer] = value instead\n",
      "\n",
      "See the caveats in the documentation: https://pandas.pydata.org/pandas-docs/stable/user_guide/indexing.html#returning-a-view-versus-a-copy\n",
      "  df[col] = pd.factorize(df[col])[0]\n"
     ]
    }
   ],
   "source": [
    "train_and_evaluate(df=pd.read_csv('./csv/histogram.csv', index_col=0))"
   ]
  },
  {
   "cell_type": "code",
   "execution_count": 6,
   "metadata": {},
   "outputs": [
    {
     "name": "stderr",
     "output_type": "stream",
     "text": [
      "<ipython-input-3-54a36230a7e1>:9: SettingWithCopyWarning: \n",
      "A value is trying to be set on a copy of a slice from a DataFrame.\n",
      "Try using .loc[row_indexer,col_indexer] = value instead\n",
      "\n",
      "See the caveats in the documentation: https://pandas.pydata.org/pandas-docs/stable/user_guide/indexing.html#returning-a-view-versus-a-copy\n",
      "  df[col] = pd.factorize(df[col])[0]\n"
     ]
    },
    {
     "name": "stdout",
     "output_type": "stream",
     "text": [
      "Epoch [10/100], Loss: 321.1297\n",
      "Epoch [20/100], Loss: 321.0825\n",
      "Epoch [30/100], Loss: 321.0557\n",
      "Epoch [40/100], Loss: 321.0293\n",
      "Epoch [50/100], Loss: 321.0012\n",
      "Epoch [60/100], Loss: 320.9706\n",
      "Epoch [70/100], Loss: 320.9367\n",
      "Epoch [80/100], Loss: 320.8990\n",
      "Epoch [90/100], Loss: 320.8563\n",
      "Epoch [100/100], Loss: 320.8076\n",
      "Test Loss: 260.8439\n"
     ]
    }
   ],
   "source": [
    "train_and_evaluate(df=pd.read_csv('./csv/dct.csv', index_col=0))"
   ]
  },
  {
   "cell_type": "code",
   "execution_count": 7,
   "metadata": {},
   "outputs": [
    {
     "name": "stderr",
     "output_type": "stream",
     "text": [
      "<ipython-input-3-54a36230a7e1>:9: SettingWithCopyWarning: \n",
      "A value is trying to be set on a copy of a slice from a DataFrame.\n",
      "Try using .loc[row_indexer,col_indexer] = value instead\n",
      "\n",
      "See the caveats in the documentation: https://pandas.pydata.org/pandas-docs/stable/user_guide/indexing.html#returning-a-view-versus-a-copy\n",
      "  df[col] = pd.factorize(df[col])[0]\n"
     ]
    },
    {
     "name": "stdout",
     "output_type": "stream",
     "text": [
      "Epoch [10/100], Loss: 15.2935\n",
      "Epoch [20/100], Loss: 15.0955\n",
      "Epoch [30/100], Loss: 14.8545\n",
      "Epoch [40/100], Loss: 14.5245\n",
      "Epoch [50/100], Loss: 14.0432\n",
      "Epoch [60/100], Loss: 13.3246\n",
      "Epoch [70/100], Loss: 12.9320\n",
      "Epoch [80/100], Loss: 12.5743\n",
      "Epoch [90/100], Loss: 12.4068\n",
      "Epoch [100/100], Loss: 12.3562\n",
      "Test Loss: 11.7716\n"
     ]
    }
   ],
   "source": [
    "train_and_evaluate(df=pd.read_csv('./csv/binomial.csv', index_col=0))"
   ]
  },
  {
   "cell_type": "code",
   "execution_count": 8,
   "metadata": {},
   "outputs": [
    {
     "name": "stderr",
     "output_type": "stream",
     "text": [
      "<ipython-input-3-54a36230a7e1>:9: SettingWithCopyWarning: \n",
      "A value is trying to be set on a copy of a slice from a DataFrame.\n",
      "Try using .loc[row_indexer,col_indexer] = value instead\n",
      "\n",
      "See the caveats in the documentation: https://pandas.pydata.org/pandas-docs/stable/user_guide/indexing.html#returning-a-view-versus-a-copy\n",
      "  df[col] = pd.factorize(df[col])[0]\n"
     ]
    },
    {
     "name": "stdout",
     "output_type": "stream",
     "text": [
      "Epoch [10/100], Loss: 31.8829\n",
      "Epoch [20/100], Loss: 31.7806\n",
      "Epoch [30/100], Loss: 31.6649\n",
      "Epoch [40/100], Loss: 31.5285\n",
      "Epoch [50/100], Loss: 31.3621\n",
      "Epoch [60/100], Loss: 31.1525\n",
      "Epoch [70/100], Loss: 30.8818\n",
      "Epoch [80/100], Loss: 30.5198\n",
      "Epoch [90/100], Loss: 30.0469\n",
      "Epoch [100/100], Loss: 29.6522\n",
      "Test Loss: 31.7482\n"
     ]
    }
   ],
   "source": [
    "train_and_evaluate(df=pd.read_csv('./csv/rocrand_k0.csv', index_col=0))"
   ]
  },
  {
   "cell_type": "code",
   "execution_count": 9,
   "metadata": {},
   "outputs": [
    {
     "name": "stderr",
     "output_type": "stream",
     "text": [
      "<ipython-input-3-54a36230a7e1>:9: SettingWithCopyWarning: \n",
      "A value is trying to be set on a copy of a slice from a DataFrame.\n",
      "Try using .loc[row_indexer,col_indexer] = value instead\n",
      "\n",
      "See the caveats in the documentation: https://pandas.pydata.org/pandas-docs/stable/user_guide/indexing.html#returning-a-view-versus-a-copy\n",
      "  df[col] = pd.factorize(df[col])[0]\n"
     ]
    },
    {
     "name": "stdout",
     "output_type": "stream",
     "text": [
      "Epoch [10/100], Loss: 31.9303\n",
      "Epoch [20/100], Loss: 31.8520\n",
      "Epoch [30/100], Loss: 31.7706\n",
      "Epoch [40/100], Loss: 31.6830\n",
      "Epoch [50/100], Loss: 31.5852\n",
      "Epoch [60/100], Loss: 31.4717\n",
      "Epoch [70/100], Loss: 31.3355\n",
      "Epoch [80/100], Loss: 31.1666\n",
      "Epoch [90/100], Loss: 30.9512\n",
      "Epoch [100/100], Loss: 30.6694\n",
      "Test Loss: 27.8271\n"
     ]
    }
   ],
   "source": [
    "train_and_evaluate(df=pd.read_csv('./csv/rocrand2_k0.csv', index_col=0))"
   ]
  },
  {
   "cell_type": "code",
   "execution_count": 10,
   "metadata": {},
   "outputs": [
    {
     "name": "stderr",
     "output_type": "stream",
     "text": [
      "<ipython-input-3-54a36230a7e1>:9: SettingWithCopyWarning: \n",
      "A value is trying to be set on a copy of a slice from a DataFrame.\n",
      "Try using .loc[row_indexer,col_indexer] = value instead\n",
      "\n",
      "See the caveats in the documentation: https://pandas.pydata.org/pandas-docs/stable/user_guide/indexing.html#returning-a-view-versus-a-copy\n",
      "  df[col] = pd.factorize(df[col])[0]\n"
     ]
    },
    {
     "name": "stdout",
     "output_type": "stream",
     "text": [
      "Epoch [10/100], Loss: 27.8680\n",
      "Epoch [20/100], Loss: 27.8017\n",
      "Epoch [30/100], Loss: 27.7298\n",
      "Epoch [40/100], Loss: 27.6485\n",
      "Epoch [50/100], Loss: 27.5541\n",
      "Epoch [60/100], Loss: 27.4419\n",
      "Epoch [70/100], Loss: 27.3055\n",
      "Epoch [80/100], Loss: 27.1348\n",
      "Epoch [90/100], Loss: 26.9155\n",
      "Epoch [100/100], Loss: 26.6261\n",
      "Test Loss: 27.0402\n"
     ]
    }
   ],
   "source": [
    "train_and_evaluate(df=pd.read_csv('./csv/rocrand_k1.csv', index_col=0))"
   ]
  },
  {
   "cell_type": "code",
   "execution_count": 11,
   "metadata": {},
   "outputs": [
    {
     "name": "stderr",
     "output_type": "stream",
     "text": [
      "<ipython-input-3-54a36230a7e1>:9: SettingWithCopyWarning: \n",
      "A value is trying to be set on a copy of a slice from a DataFrame.\n",
      "Try using .loc[row_indexer,col_indexer] = value instead\n",
      "\n",
      "See the caveats in the documentation: https://pandas.pydata.org/pandas-docs/stable/user_guide/indexing.html#returning-a-view-versus-a-copy\n",
      "  df[col] = pd.factorize(df[col])[0]\n"
     ]
    },
    {
     "name": "stdout",
     "output_type": "stream",
     "text": [
      "Epoch [10/100], Loss: 29.0224\n",
      "Epoch [20/100], Loss: 28.9403\n",
      "Epoch [30/100], Loss: 28.8506\n",
      "Epoch [40/100], Loss: 28.7488\n",
      "Epoch [50/100], Loss: 28.6292\n",
      "Epoch [60/100], Loss: 28.4845\n",
      "Epoch [70/100], Loss: 28.3047\n",
      "Epoch [80/100], Loss: 28.0761\n",
      "Epoch [90/100], Loss: 27.7757\n",
      "Epoch [100/100], Loss: 27.3683\n",
      "Test Loss: 27.7321\n"
     ]
    }
   ],
   "source": [
    "train_and_evaluate(df=pd.read_csv('./csv/rocrand2_k1.csv', index_col=0))"
   ]
  },
  {
   "cell_type": "code",
   "execution_count": 12,
   "metadata": {},
   "outputs": [
    {
     "name": "stderr",
     "output_type": "stream",
     "text": [
      "<ipython-input-12-822fdd9d37a8>:1: DtypeWarning: Columns (7) have mixed types. Specify dtype option on import or set low_memory=False.\n",
      "  train_and_evaluate(df=pd.read_csv('./csv/nbody.csv', index_col=0))\n",
      "<ipython-input-3-54a36230a7e1>:9: SettingWithCopyWarning: \n",
      "A value is trying to be set on a copy of a slice from a DataFrame.\n",
      "Try using .loc[row_indexer,col_indexer] = value instead\n",
      "\n",
      "See the caveats in the documentation: https://pandas.pydata.org/pandas-docs/stable/user_guide/indexing.html#returning-a-view-versus-a-copy\n",
      "  df[col] = pd.factorize(df[col])[0]\n"
     ]
    },
    {
     "name": "stdout",
     "output_type": "stream",
     "text": [
      "Epoch [10/100], Loss: 5.9727\n",
      "Epoch [20/100], Loss: 5.9159\n",
      "Epoch [30/100], Loss: 5.8671\n",
      "Epoch [40/100], Loss: 5.8172\n",
      "Epoch [50/100], Loss: 5.7641\n",
      "Epoch [60/100], Loss: 5.7061\n",
      "Epoch [70/100], Loss: 5.6412\n",
      "Epoch [80/100], Loss: 5.5671\n",
      "Epoch [90/100], Loss: 5.4807\n",
      "Epoch [100/100], Loss: 5.3772\n",
      "Test Loss: 5.3822\n"
     ]
    }
   ],
   "source": [
    "train_and_evaluate(df=pd.read_csv('./csv/nbody.csv', index_col=0))"
   ]
  },
  {
   "cell_type": "code",
   "execution_count": 26,
   "metadata": {},
   "outputs": [
    {
     "name": "stderr",
     "output_type": "stream",
     "text": [
      "C:\\Users\\Administrator\\AppData\\Local\\Temp\\ipykernel_8424\\1715918718.py:1: DtypeWarning: Columns (8,9,10,11,12,13,14,15,16,17,18,19,20,21,22,23,24,25,26,27,28,29,30,31,32,33,34,35,36) have mixed types. Specify dtype option on import or set low_memory=False.\n",
      "  train_and_evaluate(df=pd.read_csv('./csv/data.csv', index_col=0))\n"
     ]
    },
    {
     "name": "stdout",
     "output_type": "stream",
     "text": [
      "Epoch [10/100], Loss: 25.0514\n",
      "Epoch [20/100], Loss: 25.0340\n",
      "Epoch [30/100], Loss: 25.0226\n",
      "Epoch [40/100], Loss: 25.0126\n",
      "Epoch [50/100], Loss: 25.0027\n",
      "Epoch [60/100], Loss: 24.9922\n",
      "Epoch [70/100], Loss: 24.9811\n",
      "Epoch [80/100], Loss: 24.9691\n",
      "Epoch [90/100], Loss: 24.9561\n",
      "Epoch [100/100], Loss: 24.9418\n",
      "Test Loss: 24.8118\n"
     ]
    }
   ],
   "source": [
    "train_and_evaluate(df=pd.read_csv('./csv/data.csv', index_col=0))"
   ]
  },
  {
   "cell_type": "code",
   "execution_count": null,
   "metadata": {},
   "outputs": [],
   "source": []
  }
 ],
 "metadata": {
  "kernelspec": {
   "display_name": "Python 3",
   "language": "python",
   "name": "python3"
  },
  "language_info": {
   "codemirror_mode": {
    "name": "ipython",
    "version": 3
   },
   "file_extension": ".py",
   "mimetype": "text/x-python",
   "name": "python",
   "nbconvert_exporter": "python",
   "pygments_lexer": "ipython3",
   "version": "3.9.16"
  }
 },
 "nbformat": 4,
 "nbformat_minor": 1
}
